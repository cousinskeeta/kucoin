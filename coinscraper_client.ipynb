{
  "nbformat": 4,
  "nbformat_minor": 0,
  "metadata": {
    "kernelspec": {
      "display_name": "Python 3",
      "language": "python",
      "name": "python3"
    },
    "language_info": {
      "codemirror_mode": {
        "name": "ipython",
        "version": 3
      },
      "file_extension": ".py",
      "mimetype": "text/x-python",
      "name": "python",
      "nbconvert_exporter": "python",
      "pygments_lexer": "ipython3",
      "version": "3.7.3"
    },
    "colab": {
      "name": "coinscraper_client.ipynb",
      "provenance": [],
      "collapsed_sections": [],
      "machine_shape": "hm"
    }
  },
  "cells": [
    {
      "cell_type": "code",
      "metadata": {
        "id": "5aOWoVZghI_C",
        "colab_type": "code",
        "colab": {}
      },
      "source": [
        "import bs4\n",
        "import requests\n",
        "import pandas as pd\n",
        "import time\n",
        "import random\n",
        "import math\n",
        "import sqlite3\n",
        "import numpy as np\n",
        "from math import pi\n",
        "import matplotlib.pyplot as plt\n",
        "%matplotlib inline\n",
        "from bokeh.plotting import figure, output_file, show    \n",
        "from google.colab import drive"
      ],
      "execution_count": null,
      "outputs": []
    },
    {
      "cell_type": "code",
      "metadata": {
        "id": "DLfse9OsnxzV",
        "colab_type": "code",
        "colab": {}
      },
      "source": [
        "class coinscrapper(object):\n",
        "  today = None\n",
        "  kucoin_list = []\n",
        "  technical_data = []\n",
        "  fundamental_data = []\n",
        "  rsi_data = []\n",
        "  todays_RSI = []\n",
        "  marketcaps = []\n",
        "  volumes = []\n",
        "  plots = []\n",
        "  log = \"\"\n",
        "  test= None\n",
        "\n",
        "  def __init__(self, today, *args, **kwargs):\n",
        "    super().__init__(*args, **kwargs)\n",
        "    self.today = today\n",
        "    self.log.join(\"Loading client\\n\")\n",
        "    self.connect_googleDrive()\n",
        "  \n",
        "  def connect_googleDrive(self):\n",
        "    drive.mount('drive', force_remount=True)\n",
        "    self.log.join(\"Connecting to Google Drive\\n\")\n",
        "\n",
        "  def get_kc_list(self):\n",
        "    today_ = self.today\n",
        "    try:\n",
        "      from selenium import webdriver\n",
        "      options = webdriver.ChromeOptions()\n",
        "      options.add_argument('user-agent= Mozilla/5.0 (Windows NT 6.1; Win64; x64) AppleWebKit/537.36 (KHTML, like Gecko) Chrome/64.0.3282.186 Safari/537.36')\n",
        "      options.add_argument('-headless')\n",
        "      options.add_argument('-no-sandbox')\n",
        "      options.add_argument('-disable-dev-shm-usage')\n",
        "      urls = []\n",
        "      with webdriver.Chrome('chromedriver',options=options) as wd:\n",
        "          url = \"https://coinmarketcap.com/exchanges/kucoin/\"\n",
        "          wd.get(url)\n",
        "          def scroll_to_end(wd2, scroll_point = 'document.body.scrollHeight'):  \n",
        "            for i in range(1,1000):\n",
        "                print(i)\n",
        "                wd2.execute_script(f\"window.scrollTo(0, {i*scroll_point});\")\n",
        "                time.sleep(7) \n",
        "                try:\n",
        "                    load_more_button = wd2.find_element_by_xpath('//div[@class=\"cmc-markets-listing__load-more\")')\n",
        "                    if load_more_button:\n",
        "                        load_more_button.click()\n",
        "                        time.sleep(3) \n",
        "                except:\n",
        "                    break\n",
        "          scroll_to_end(wd)\n",
        "          elem = wd.find_elements_by_xpath(\"//tr//div//a[@class='cmc-link']\")\n",
        "          res = [j.get_attribute('href') for j in elem]   \n",
        "          print(res)\n",
        "          for k in res:\n",
        "            if 'trade' not in k:\n",
        "              urls.append(k)\n",
        "      historic_urls = [l + 'historical-data/'+ f'?start=20200501&end={today_}' for l in set(urls)]\n",
        "      print(historic_urls)\n",
        "      self.kucoin_list = historic_urls\n",
        "      self.log.join(\"Successfully pulled link Kucoin assest from CMC\\n\")\n",
        "      return historic_urls\n",
        "\n",
        "    except:\n",
        "      print('Do you want to install the required packages?\\ny/n' )\n",
        "      x = input()\n",
        "      if x == 'y':\n",
        "        print ('okay. We will install the required packages.')\n",
        "        !apt-get update \n",
        "        !apt install chromium-chromedriver\n",
        "        !cp /usr/lib/chromium-browser/chromedriver /usr/bin\n",
        "        !pip install selenium\n",
        "        !pip install progress\n",
        "      else:\n",
        "        print ('Sorry you need these packages to continue.\\n Try again? y/n')\n",
        "        y = input()\n",
        "        if y == \"y\":\n",
        "          self.get_kc_list()\n",
        "          print('Success!')\n",
        "        else:\n",
        "          pass\n",
        "      self.log.join(\"Failed to get link Kucoin assest from CMC\\n\")\n",
        "\n",
        "  def get_data(self):\n",
        "    if len(self.kucoin_list) < 1:\n",
        "      self.get_kc_list()\n",
        "    series = self.kucoin_list\n",
        "    time.sleep(random.uniform(7, 10))\n",
        "    start = time.time()\n",
        "    for idx, coins in enumerate(series):\n",
        "      loop = time.time()\n",
        "      print(idx+1,\"out of \", len(series))\n",
        "      try:\n",
        "        data = pd.read_html(coins)\n",
        "        self.technical_data.append(data[2])\n",
        "        self.fundamental_data.append(data[3])\n",
        "        time.sleep(random.uniform(7, 10))\n",
        "        elapsed = loop - start\n",
        "        print('Success!', elapsed, 'seconds...')\n",
        "        self.log.join(f'{round(elapsed/60,2)} minutes elapsed...\\n')\n",
        "      except:\n",
        "        self.technical_data.append(\"Error\")\n",
        "        self.fundamental_data.append(\"Error\")\n",
        "        time.sleep(random.uniform(7, 10))\n",
        "        elapsed = loop - start\n",
        "        print(\"Failed.\", elapsed, 'seconds...')\n",
        "        self.log.join(f'Ooopps.... Somebody hating. \\nWe missing the one for {coins}, \\n or CMC just did not have the data')\n",
        "        self.log.join(f'{round(elapsed/60,2)} minutes elapsed...\\n')\n",
        "\n",
        "  def computeRSI (self, data, time_window):\n",
        "    diff = data.diff(1).dropna()  \n",
        "    up_chg = 0 * diff\n",
        "    down_chg = 0 * diff\n",
        "    up_chg[diff > 0] = diff[ diff>0 ]\n",
        "    down_chg[diff < 0] = diff[ diff < 0 ]\n",
        "    up_chg_avg   = up_chg.ewm(com=time_window-1 , min_periods=time_window).mean()\n",
        "    down_chg_avg = down_chg.ewm(com=time_window-1 , min_periods=time_window).mean()\n",
        "    rs = abs(up_chg_avg/down_chg_avg)\n",
        "    rsi = 100 - 100/(1+rs)\n",
        "    self.log.join(\"Computing RSI\\n\")\n",
        "    return rsi\n",
        "\n",
        "  def preprocess(self, df):\n",
        "    data = df.copy()\n",
        "    data['date_'] = pd.to_datetime(data['Date'])\n",
        "    data.index = pd.DatetimeIndex(data['date_'])\n",
        "    data.sort_index(ascending=True, inplace=True)\n",
        "    self.log.join(\"Prepocessing data\\n\")\n",
        "    return data\n",
        "\n",
        "  def get_rsi_data(self, data):\n",
        "    i = data.copy\n",
        "    x = self.preprocess(i)\n",
        "    x['RSI'] = computeRSI(x['Close**'], 14)\n",
        "    r = list(x['RSI'])[-1]\n",
        "    self.rsi_data.append(x)\n",
        "    self.todays_RSI.append(r)\n",
        "    self.log.join(\"Collecing RSI data\\n\")\n",
        "    return x\n",
        "\n",
        "  def plot_rsi_data(self, data, title):\n",
        "    title = title\n",
        "    test = data \n",
        "    r = list(test['RSI'])[-1]\n",
        "    print(f'Plotting RSI ({r}) for: ', f'{title}')\n",
        "    plt.figure(figsize=(40,9))\n",
        "    plt.plot(test.index[-14:],test.RSI[-14:])\n",
        "    plt.title(f'{title}'+\"-Current-RSI-\"+str(r))\n",
        "    plt.hlines(80,xmin=test.index[-14:].min(),  xmax=test.index[-14:].max(),colors='k', label='80')\n",
        "    plt.hlines(70,xmin=test.index[-14:].min(),  xmax=test.index[-14:].max(),colors='r', label='70', linestyles='dashdot')\n",
        "    plt.hlines(30,xmin=test.index[-14:].min(),  xmax=test.index[-14:].max(),colors='g', label='30', linestyles='dashdot')\n",
        "    plt.hlines(20,xmin=test.index[-14:].min(),  xmax=test.index[-14:].max(),colors='b', label='20')\n",
        "    plt.xlabel('Date')\n",
        "    plt.ylabel('RSI_14')\n",
        "    plt.legend()\n",
        "    plt.show();\n",
        "    try:\n",
        "      plt.savefig(f'drive/My Drive/CoinScraper/charts/{j}.png', dpi=72)\n",
        "      self.plots.append(plt)\n",
        "      self.log.join(f\"Plotting {j} data\\n\")\n",
        "    except:\n",
        "      self.connect_googleDrive()\n",
        "      plt.savefig(f'drive/My Drive/CoinScraper/charts/{j}.png', dpi=72)\n",
        "      self.plots.append(plt)\n",
        "      self.log.join(f\"Plotting {j} data\\n\")\n",
        "\n",
        "  def summary(self):\n",
        "    if len(self.technical_data) < 1:\n",
        "      self.get_data()\n",
        "    datasets = self.technical_data\n",
        "    titles = self.kucoin_list\n",
        "    for i, j in zip(datasets, titles):\n",
        "      self.get_rsi_data(i)\n",
        "      self.plot_rsi_data(i,j)\n",
        "    sum_table = pd.DataFrame()\n",
        "    if len(titles) == len(self.todays_RSI):\n",
        "      sum_table['URL'] = titles\n",
        "      sum_table['RSI'] = self.todays_RSI\n",
        "      return sum_table.sort_values(by='RSI', axis=1)\n",
        "\n",
        "\n",
        "  def save_candlesticks(self):\n",
        "    if len(self.technical_data) < 1:\n",
        "      self.get_data()\n",
        "    if len(self.plots) < 1:\n",
        "      self.plot_rsi_data()\n",
        "    for i, j in zip(self.technical_data, self.kucoin_list):\n",
        "      try:\n",
        "        df = i\n",
        "        inc = df['Close**'] > df['Open*']\n",
        "        dec = df['Open*'] > df['Close**']\n",
        "        w = 12*60*60*1000 # half day in ms\n",
        "        TOOLS = \"pan,wheel_zoom,box_zoom,reset,save\"\n",
        "        p = figure(x_axis_type=\"datetime\", tools=TOOLS, plot_width=1000, title = \"{j} Price Chart\")\n",
        "        p.xaxis.major_label_orientation = pi/4\n",
        "        p.grid.grid_line_alpha=0.3\n",
        "        p.segment(df.index, df['High'], df.index, df['Low'], color=\"black\")\n",
        "        p.vbar(df.index[inc], w, df['Open*'][inc], df['Close**'][inc], fill_color=\"#D5E1DD\", line_color=\"black\")\n",
        "        p.vbar(df.index[dec], w, df['Open*'][dec], df['Close**'][dec], fill_color=\"#F2583E\", line_color=\"black\")\n",
        "        output_file(f\"drive/My Drive/CoinScraper/charts/{j}/{j}.html\", title=\"candlestick.py example\")\n",
        "        self.log.join(f'Plotting {j} candlesticks\\n')\n",
        "        show(p)  # open a browser\n",
        "      except:\n",
        "        self.log.join(f'Error plotting candlesticks for {j}\\n')\n",
        "\n",
        "  def pull_fundamentals(self):\n",
        "    if len(self.fundamental_data) < 1:\n",
        "      self.get_data()\n",
        "    if len(self.todays_RSI) < 1:\n",
        "      self.get_rsi_data()\n",
        "    fund = self.fundamental_data\n",
        "    for i in fund:\n",
        "      try:\n",
        "        marketcap = i.set_index(0).stack()[3]\n",
        "        volume = i.set_index(0).stack()[4]\n",
        "        self.marketcaps.append(marketcap)\n",
        "        self.volumes.append(volume)\n",
        "        self.log.join('Pulling fundamentals\\n')\n",
        "      except:\n",
        "        self.marketcaps.append('Error')\n",
        "        self.volumes.append('Error')\n",
        "        self.log.join('Error pulling fundamentals\\n')\n",
        "      \n",
        "  def load_images():\n",
        "    pass\n",
        "\n",
        "\n",
        "  def summarize(self):\n",
        "    if len(self.fundamental_data) < 1:\n",
        "      self.pull_fundamentals()\n",
        "    if len(self.todays_RSI) < 1:\n",
        "      self.get_rsi_data()\n",
        "    results = pd.DataFrame()\n",
        "    results['Date'] = self.today\n",
        "    results['Asset'] = self.kucoin_list\n",
        "    results['MarketCap'] = self.marketcaps\n",
        "    results['Volume'] = self.volumes\n",
        "    results['RSI'] = self.todays_RSI\n",
        "    results['Price'] = self.todays_price\n",
        "    # results.sort_values(by='RSI', axis=1, inplace=True)\n",
        "    # results['Plots']\n",
        "    try:\n",
        "      results.to_csv('drive/My Drive/CoinScraper/summary.csv')\n",
        "      self.log.join('Saving Data\\n')\n",
        "    except:\n",
        "      self.connect_googleDrive()\n",
        "      results.to_csv('drive/My Drive/CoinScraper/summary.csv')\n",
        "    return results.to_html()"
      ],
      "execution_count": null,
      "outputs": []
    },
    {
      "cell_type": "markdown",
      "metadata": {
        "id": "BmB0RbywhrV7",
        "colab_type": "text"
      },
      "source": [
        "# Connecting to Client"
      ]
    },
    {
      "cell_type": "code",
      "metadata": {
        "id": "u05MB2HY8Rsv",
        "colab_type": "code",
        "colab": {}
      },
      "source": [
        "client = coinscrapper('20200818')"
      ],
      "execution_count": null,
      "outputs": []
    },
    {
      "cell_type": "markdown",
      "metadata": {
        "id": "qT4azaQkhtbM",
        "colab_type": "text"
      },
      "source": [
        "# Getting list of Kucoin assests"
      ]
    },
    {
      "cell_type": "code",
      "metadata": {
        "id": "3VOYnC-D8ZVd",
        "colab_type": "code",
        "colab": {}
      },
      "source": [
        "start = time.time()\n",
        "client.get_kc_list()\n",
        "end = time.time()\n",
        "print(end-start, 'seconds')"
      ],
      "execution_count": null,
      "outputs": []
    },
    {
      "cell_type": "markdown",
      "metadata": {
        "id": "yefI4jgLh6w0",
        "colab_type": "text"
      },
      "source": [
        "# Requesting Data from CMC"
      ]
    },
    {
      "cell_type": "code",
      "metadata": {
        "id": "wxGqiW0L8btV",
        "colab_type": "code",
        "colab": {}
      },
      "source": [
        "import random\n",
        "client.get_data()"
      ],
      "execution_count": null,
      "outputs": []
    },
    {
      "cell_type": "markdown",
      "metadata": {
        "id": "aeqIRrS9iVj4",
        "colab_type": "text"
      },
      "source": [
        "# Computing RSI data"
      ]
    },
    {
      "cell_type": "code",
      "metadata": {
        "id": "BdbvymJK_9Eg",
        "colab_type": "code",
        "colab": {
          "base_uri": "https://localhost:8080/",
          "height": 51
        },
        "outputId": "f562175e-f391-4208-e97f-28948d2c1102"
      },
      "source": [
        "client.summary()"
      ],
      "execution_count": null,
      "outputs": [
        {
          "output_type": "stream",
          "text": [
            "Success! 189.53978037834167 seconds...\n",
            "23 out of  203\n"
          ],
          "name": "stdout"
        }
      ]
    },
    {
      "cell_type": "markdown",
      "metadata": {
        "id": "a5rrxfWBmhgE",
        "colab_type": "text"
      },
      "source": [
        "# Plot RSI Data"
      ]
    },
    {
      "cell_type": "code",
      "metadata": {
        "id": "jMCAOMTL9CMG",
        "colab_type": "code",
        "colab": {}
      },
      "source": [
        "cliet.plot_rsi_data()"
      ],
      "execution_count": null,
      "outputs": []
    },
    {
      "cell_type": "markdown",
      "metadata": {
        "id": "QkkKwpiJXz5x",
        "colab_type": "text"
      },
      "source": [
        "# Summary"
      ]
    },
    {
      "cell_type": "code",
      "metadata": {
        "id": "abOoG70T9HnC",
        "colab_type": "code",
        "colab": {}
      },
      "source": [
        "testing.save_candlesticks()"
      ],
      "execution_count": null,
      "outputs": []
    },
    {
      "cell_type": "code",
      "metadata": {
        "id": "QWmDP8dqtaj7",
        "colab_type": "code",
        "colab": {}
      },
      "source": [
        "testing.log"
      ],
      "execution_count": null,
      "outputs": []
    },
    {
      "cell_type": "code",
      "metadata": {
        "id": "5WJ7gO1n9YkF",
        "colab_type": "code",
        "colab": {}
      },
      "source": [
        "testing.fundamental_data"
      ],
      "execution_count": null,
      "outputs": []
    },
    {
      "cell_type": "code",
      "metadata": {
        "id": "nMTwWjH489CL",
        "colab_type": "code",
        "colab": {}
      },
      "source": [
        "testing.technical_data"
      ],
      "execution_count": null,
      "outputs": []
    }
  ]
}